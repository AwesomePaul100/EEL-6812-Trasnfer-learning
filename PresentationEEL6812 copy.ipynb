{
  "nbformat": 4,
  "nbformat_minor": 0,
  "metadata": {
    "colab": {
      "name": "PresentationEEL6812.ipynb",
      "provenance": [],
      "collapsed_sections": []
    },
    "kernelspec": {
      "name": "python3",
      "display_name": "Python 3"
    },
    "language_info": {
      "name": "python"
    }
  },
  "cells": [
    {
      "cell_type": "markdown",
      "source": [
        "This program will predict if a student will pass based on students grades on assessments."
      ],
      "metadata": {
        "id": "J2YkSWGxQt4x"
      }
    },
    {
      "cell_type": "code",
      "execution_count": 1,
      "metadata": {
        "id": "KOpDfcfXRN9X"
      },
      "outputs": [],
      "source": [
        "from keras.models import Sequential\n",
        "from keras.layers import Dense\n",
        "from sklearn.model_selection import train_test_split\n",
        "from sklearn.preprocessing import MinMaxScaler\n",
        "import matplotlib.pyplot as plt\n",
        "import pandas as pd\n",
        "import tensorflow as tf"
      ]
    },
    {
      "cell_type": "code",
      "source": [
        "# Upload data.\n",
        "from google.colab import files\n",
        "uploaded = files.upload()\n",
        "df = pd.read_csv('grades.csv')\n",
        "# To print the first seven rows.\n",
        "df.head(7)"
      ],
      "metadata": {
        "colab": {
          "resources": {
            "http://localhost:8080/nbextensions/google.colab/files.js": {
              "data": "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",
              "ok": true,
              "headers": [
                [
                  "content-type",
                  "application/javascript"
                ]
              ],
              "status": 200,
              "status_text": ""
            }
          },
          "base_uri": "https://localhost:8080/",
          "height": 322
        },
        "id": "OzUGyOLQR6iu",
        "outputId": "fed1d93e-e811-4e19-dc02-644988ca0526"
      },
      "execution_count": 12,
      "outputs": [
        {
          "output_type": "display_data",
          "data": {
            "text/plain": [
              "<IPython.core.display.HTML object>"
            ],
            "text/html": [
              "\n",
              "     <input type=\"file\" id=\"files-8bf62538-9793-464f-bbe3-e4ad5ec4d2f2\" name=\"files[]\" multiple disabled\n",
              "        style=\"border:none\" />\n",
              "     <output id=\"result-8bf62538-9793-464f-bbe3-e4ad5ec4d2f2\">\n",
              "      Upload widget is only available when the cell has been executed in the\n",
              "      current browser session. Please rerun this cell to enable.\n",
              "      </output>\n",
              "      <script src=\"/nbextensions/google.colab/files.js\"></script> "
            ]
          },
          "metadata": {}
        },
        {
          "output_type": "stream",
          "name": "stdout",
          "text": [
            "Saving grades.csv to grades.csv\n"
          ]
        },
        {
          "output_type": "execute_result",
          "data": {
            "text/plain": [
              "   q1  q2  q3  q4  q5  test1  test2  test3  test4  test5  test\n",
              "0   5   6   3   5   8      2      4      2      4      1     0\n",
              "1   5   3   7   4   3      5      6      5      3      5     0\n",
              "2   1   5   9   3   7      3      3      8      4      1     0\n",
              "3   4   9   6   8   8      2      1      8      4      1     0\n",
              "4   2   3   5   6   1      3      1      2      9      6     0\n",
              "5   9   3   7   1   2      8      7      0      6      4     0\n",
              "6   3   6   8   5   4      0      6      1      4      9     0"
            ],
            "text/html": [
              "\n",
              "  <div id=\"df-04dd9b03-f953-4e6f-a727-fff8844dc1e8\">\n",
              "    <div class=\"colab-df-container\">\n",
              "      <div>\n",
              "<style scoped>\n",
              "    .dataframe tbody tr th:only-of-type {\n",
              "        vertical-align: middle;\n",
              "    }\n",
              "\n",
              "    .dataframe tbody tr th {\n",
              "        vertical-align: top;\n",
              "    }\n",
              "\n",
              "    .dataframe thead th {\n",
              "        text-align: right;\n",
              "    }\n",
              "</style>\n",
              "<table border=\"1\" class=\"dataframe\">\n",
              "  <thead>\n",
              "    <tr style=\"text-align: right;\">\n",
              "      <th></th>\n",
              "      <th>q1</th>\n",
              "      <th>q2</th>\n",
              "      <th>q3</th>\n",
              "      <th>q4</th>\n",
              "      <th>q5</th>\n",
              "      <th>test1</th>\n",
              "      <th>test2</th>\n",
              "      <th>test3</th>\n",
              "      <th>test4</th>\n",
              "      <th>test5</th>\n",
              "      <th>test</th>\n",
              "    </tr>\n",
              "  </thead>\n",
              "  <tbody>\n",
              "    <tr>\n",
              "      <th>0</th>\n",
              "      <td>5</td>\n",
              "      <td>6</td>\n",
              "      <td>3</td>\n",
              "      <td>5</td>\n",
              "      <td>8</td>\n",
              "      <td>2</td>\n",
              "      <td>4</td>\n",
              "      <td>2</td>\n",
              "      <td>4</td>\n",
              "      <td>1</td>\n",
              "      <td>0</td>\n",
              "    </tr>\n",
              "    <tr>\n",
              "      <th>1</th>\n",
              "      <td>5</td>\n",
              "      <td>3</td>\n",
              "      <td>7</td>\n",
              "      <td>4</td>\n",
              "      <td>3</td>\n",
              "      <td>5</td>\n",
              "      <td>6</td>\n",
              "      <td>5</td>\n",
              "      <td>3</td>\n",
              "      <td>5</td>\n",
              "      <td>0</td>\n",
              "    </tr>\n",
              "    <tr>\n",
              "      <th>2</th>\n",
              "      <td>1</td>\n",
              "      <td>5</td>\n",
              "      <td>9</td>\n",
              "      <td>3</td>\n",
              "      <td>7</td>\n",
              "      <td>3</td>\n",
              "      <td>3</td>\n",
              "      <td>8</td>\n",
              "      <td>4</td>\n",
              "      <td>1</td>\n",
              "      <td>0</td>\n",
              "    </tr>\n",
              "    <tr>\n",
              "      <th>3</th>\n",
              "      <td>4</td>\n",
              "      <td>9</td>\n",
              "      <td>6</td>\n",
              "      <td>8</td>\n",
              "      <td>8</td>\n",
              "      <td>2</td>\n",
              "      <td>1</td>\n",
              "      <td>8</td>\n",
              "      <td>4</td>\n",
              "      <td>1</td>\n",
              "      <td>0</td>\n",
              "    </tr>\n",
              "    <tr>\n",
              "      <th>4</th>\n",
              "      <td>2</td>\n",
              "      <td>3</td>\n",
              "      <td>5</td>\n",
              "      <td>6</td>\n",
              "      <td>1</td>\n",
              "      <td>3</td>\n",
              "      <td>1</td>\n",
              "      <td>2</td>\n",
              "      <td>9</td>\n",
              "      <td>6</td>\n",
              "      <td>0</td>\n",
              "    </tr>\n",
              "    <tr>\n",
              "      <th>5</th>\n",
              "      <td>9</td>\n",
              "      <td>3</td>\n",
              "      <td>7</td>\n",
              "      <td>1</td>\n",
              "      <td>2</td>\n",
              "      <td>8</td>\n",
              "      <td>7</td>\n",
              "      <td>0</td>\n",
              "      <td>6</td>\n",
              "      <td>4</td>\n",
              "      <td>0</td>\n",
              "    </tr>\n",
              "    <tr>\n",
              "      <th>6</th>\n",
              "      <td>3</td>\n",
              "      <td>6</td>\n",
              "      <td>8</td>\n",
              "      <td>5</td>\n",
              "      <td>4</td>\n",
              "      <td>0</td>\n",
              "      <td>6</td>\n",
              "      <td>1</td>\n",
              "      <td>4</td>\n",
              "      <td>9</td>\n",
              "      <td>0</td>\n",
              "    </tr>\n",
              "  </tbody>\n",
              "</table>\n",
              "</div>\n",
              "      <button class=\"colab-df-convert\" onclick=\"convertToInteractive('df-04dd9b03-f953-4e6f-a727-fff8844dc1e8')\"\n",
              "              title=\"Convert this dataframe to an interactive table.\"\n",
              "              style=\"display:none;\">\n",
              "        \n",
              "  <svg xmlns=\"http://www.w3.org/2000/svg\" height=\"24px\"viewBox=\"0 0 24 24\"\n",
              "       width=\"24px\">\n",
              "    <path d=\"M0 0h24v24H0V0z\" fill=\"none\"/>\n",
              "    <path d=\"M18.56 5.44l.94 2.06.94-2.06 2.06-.94-2.06-.94-.94-2.06-.94 2.06-2.06.94zm-11 1L8.5 8.5l.94-2.06 2.06-.94-2.06-.94L8.5 2.5l-.94 2.06-2.06.94zm10 10l.94 2.06.94-2.06 2.06-.94-2.06-.94-.94-2.06-.94 2.06-2.06.94z\"/><path d=\"M17.41 7.96l-1.37-1.37c-.4-.4-.92-.59-1.43-.59-.52 0-1.04.2-1.43.59L10.3 9.45l-7.72 7.72c-.78.78-.78 2.05 0 2.83L4 21.41c.39.39.9.59 1.41.59.51 0 1.02-.2 1.41-.59l7.78-7.78 2.81-2.81c.8-.78.8-2.07 0-2.86zM5.41 20L4 18.59l7.72-7.72 1.47 1.35L5.41 20z\"/>\n",
              "  </svg>\n",
              "      </button>\n",
              "      \n",
              "  <style>\n",
              "    .colab-df-container {\n",
              "      display:flex;\n",
              "      flex-wrap:wrap;\n",
              "      gap: 12px;\n",
              "    }\n",
              "\n",
              "    .colab-df-convert {\n",
              "      background-color: #E8F0FE;\n",
              "      border: none;\n",
              "      border-radius: 50%;\n",
              "      cursor: pointer;\n",
              "      display: none;\n",
              "      fill: #1967D2;\n",
              "      height: 32px;\n",
              "      padding: 0 0 0 0;\n",
              "      width: 32px;\n",
              "    }\n",
              "\n",
              "    .colab-df-convert:hover {\n",
              "      background-color: #E2EBFA;\n",
              "      box-shadow: 0px 1px 2px rgba(60, 64, 67, 0.3), 0px 1px 3px 1px rgba(60, 64, 67, 0.15);\n",
              "      fill: #174EA6;\n",
              "    }\n",
              "\n",
              "    [theme=dark] .colab-df-convert {\n",
              "      background-color: #3B4455;\n",
              "      fill: #D2E3FC;\n",
              "    }\n",
              "\n",
              "    [theme=dark] .colab-df-convert:hover {\n",
              "      background-color: #434B5C;\n",
              "      box-shadow: 0px 1px 3px 1px rgba(0, 0, 0, 0.15);\n",
              "      filter: drop-shadow(0px 1px 2px rgba(0, 0, 0, 0.3));\n",
              "      fill: #FFFFFF;\n",
              "    }\n",
              "  </style>\n",
              "\n",
              "      <script>\n",
              "        const buttonEl =\n",
              "          document.querySelector('#df-04dd9b03-f953-4e6f-a727-fff8844dc1e8 button.colab-df-convert');\n",
              "        buttonEl.style.display =\n",
              "          google.colab.kernel.accessAllowed ? 'block' : 'none';\n",
              "\n",
              "        async function convertToInteractive(key) {\n",
              "          const element = document.querySelector('#df-04dd9b03-f953-4e6f-a727-fff8844dc1e8');\n",
              "          const dataTable =\n",
              "            await google.colab.kernel.invokeFunction('convertToInteractive',\n",
              "                                                     [key], {});\n",
              "          if (!dataTable) return;\n",
              "\n",
              "          const docLinkHtml = 'Like what you see? Visit the ' +\n",
              "            '<a target=\"_blank\" href=https://colab.research.google.com/notebooks/data_table.ipynb>data table notebook</a>'\n",
              "            + ' to learn more about interactive tables.';\n",
              "          element.innerHTML = '';\n",
              "          dataTable['output_type'] = 'display_data';\n",
              "          await google.colab.output.renderOutput(dataTable, element);\n",
              "          const docLink = document.createElement('div');\n",
              "          docLink.innerHTML = docLinkHtml;\n",
              "          element.appendChild(docLink);\n",
              "        }\n",
              "      </script>\n",
              "    </div>\n",
              "  </div>\n",
              "  "
            ]
          },
          "metadata": {},
          "execution_count": 12
        }
      ]
    },
    {
      "cell_type": "code",
      "source": [
        "# Set data to a array.\n",
        "dataset = df.values\n",
        "dataset"
      ],
      "metadata": {
        "colab": {
          "base_uri": "https://localhost:8080/"
        },
        "id": "fwDvtZJWbn8_",
        "outputId": "e07ea44b-20f9-4d65-e1fe-8e491d9ecae7"
      },
      "execution_count": 13,
      "outputs": [
        {
          "output_type": "execute_result",
          "data": {
            "text/plain": [
              "array([[ 5,  6,  3, ...,  4,  1,  0],\n",
              "       [ 5,  3,  7, ...,  3,  5,  0],\n",
              "       [ 1,  5,  9, ...,  4,  1,  0],\n",
              "       ...,\n",
              "       [ 1,  4,  1, ...,  5,  1,  0],\n",
              "       [ 5,  5,  7, ..., 10,  4,  0],\n",
              "       [ 2, 10,  3, ...,  5,  7,  0]])"
            ]
          },
          "metadata": {},
          "execution_count": 13
        }
      ]
    },
    {
      "cell_type": "code",
      "source": [
        "# Get the rows from the columns 0 to 10 not including 10.\n",
        "x = dataset[:,0:10]\n",
        "# Get the rows from the column at position 10.\n",
        "y = dataset[:,10]"
      ],
      "metadata": {
        "id": "1kPPPefDbtAx"
      },
      "execution_count": 14,
      "outputs": []
    },
    {
      "cell_type": "code",
      "source": [
        "# Now use the mininum-maximum scaler so all the values are between 0 and 1 inclusive.\n",
        "min_max_scaler = MinMaxScaler()\n",
        "x_scale = min_max_scaler.fit_transform(x)\n",
        "x_scale"
      ],
      "metadata": {
        "colab": {
          "base_uri": "https://localhost:8080/"
        },
        "id": "yzb9h9uDbtWQ",
        "outputId": "664d6f21-d8e8-4f84-906c-4db2f934539a"
      },
      "execution_count": 15,
      "outputs": [
        {
          "output_type": "execute_result",
          "data": {
            "text/plain": [
              "array([[0.5, 0.6, 0.3, ..., 0.2, 0.4, 0.1],\n",
              "       [0.5, 0.3, 0.7, ..., 0.5, 0.3, 0.5],\n",
              "       [0.1, 0.5, 0.9, ..., 0.8, 0.4, 0.1],\n",
              "       ...,\n",
              "       [0.1, 0.4, 0.1, ..., 1. , 0.5, 0.1],\n",
              "       [0.5, 0.5, 0.7, ..., 0.5, 1. , 0.4],\n",
              "       [0.2, 1. , 0.3, ..., 1. , 0.5, 0.7]])"
            ]
          },
          "metadata": {},
          "execution_count": 15
        }
      ]
    },
    {
      "cell_type": "code",
      "source": [
        "# Set 80 percen training and 20 percent (10% test and 10% validating)\n",
        "x_train,x_val_and_test, y_train, y_val_and_test = train_test_split(x_scale, y, test_size=0.2)\n",
        "x_val, x_test, y_val, y_test = train_test_split(x_val_and_test,y_val_and_test, test_size = 0.5)\n",
        "# The training has 167 data point, validation has 21 data points and the variables have 10 input features.\n",
        "print(x_train.shape, x_val.shape, x_test.shape, y_train.shape, y_val.shape, y_test.shape)"
      ],
      "metadata": {
        "colab": {
          "base_uri": "https://localhost:8080/"
        },
        "id": "miFYZ9WZbtsB",
        "outputId": "95627515-28a5-48c7-e448-fcc6a07e8416"
      },
      "execution_count": 16,
      "outputs": [
        {
          "output_type": "stream",
          "name": "stdout",
          "text": [
            "(167, 10) (21, 10) (21, 10) (167,) (21,) (21,)\n"
          ]
        }
      ]
    },
    {
      "cell_type": "code",
      "source": [
        "# We make the model architecture here.\n",
        "model = Sequential()\n",
        "model.add(Dense(units = 12, activation = 'relu', input_dim = 10))\n",
        "model.add(Dense(units = 8, activation = 'relu'))\n",
        "model.add(Dense(units = 1, activation = 'sigmoid'))"
      ],
      "metadata": {
        "id": "io5wwhWLd2XW"
      },
      "execution_count": 17,
      "outputs": []
    },
    {
      "cell_type": "code",
      "source": [
        "# The funtion measures how well the model was, and then improves using the optimizers.\n",
        "#model.compile(optimizer='sgd',loss = tf.keras.losses.SparseCategoricalCrossentropy(from_logits=True), metrics=['accuracy'])\n",
        "model.compile(optimizer='sgd',loss = 'binary_crossentropy', metrics=['accuracy'])"
      ],
      "metadata": {
        "id": "7TjBJzF1eVZL"
      },
      "execution_count": 18,
      "outputs": []
    },
    {
      "cell_type": "code",
      "source": [
        "#Now we train the data.\n",
        "hist = model.fit(x_train,y_train,\n",
        "                 batch_size=32, epochs=100, validation_data=(x_val,y_val))"
      ],
      "metadata": {
        "colab": {
          "base_uri": "https://localhost:8080/"
        },
        "id": "VXHGJahjesS0",
        "outputId": "2b607b0a-83c8-439b-c26a-c576a488ff58"
      },
      "execution_count": 19,
      "outputs": [
        {
          "output_type": "stream",
          "name": "stdout",
          "text": [
            "Epoch 1/100\n",
            "6/6 [==============================] - 1s 32ms/step - loss: 0.7127 - accuracy: 0.3772 - val_loss: 0.6934 - val_accuracy: 0.6190\n",
            "Epoch 2/100\n",
            "6/6 [==============================] - 0s 7ms/step - loss: 0.6962 - accuracy: 0.5329 - val_loss: 0.6769 - val_accuracy: 0.8095\n",
            "Epoch 3/100\n",
            "6/6 [==============================] - 0s 6ms/step - loss: 0.6800 - accuracy: 0.7186 - val_loss: 0.6609 - val_accuracy: 0.9048\n",
            "Epoch 4/100\n",
            "6/6 [==============================] - 0s 5ms/step - loss: 0.6646 - accuracy: 0.8683 - val_loss: 0.6455 - val_accuracy: 0.9524\n",
            "Epoch 5/100\n",
            "6/6 [==============================] - 0s 7ms/step - loss: 0.6497 - accuracy: 0.9461 - val_loss: 0.6311 - val_accuracy: 1.0000\n",
            "Epoch 6/100\n",
            "6/6 [==============================] - 0s 7ms/step - loss: 0.6358 - accuracy: 0.9581 - val_loss: 0.6172 - val_accuracy: 1.0000\n",
            "Epoch 7/100\n",
            "6/6 [==============================] - 0s 6ms/step - loss: 0.6226 - accuracy: 0.9641 - val_loss: 0.6044 - val_accuracy: 1.0000\n",
            "Epoch 8/100\n",
            "6/6 [==============================] - 0s 7ms/step - loss: 0.6102 - accuracy: 0.9760 - val_loss: 0.5915 - val_accuracy: 1.0000\n",
            "Epoch 9/100\n",
            "6/6 [==============================] - 0s 8ms/step - loss: 0.5978 - accuracy: 0.9760 - val_loss: 0.5792 - val_accuracy: 1.0000\n",
            "Epoch 10/100\n",
            "6/6 [==============================] - 0s 6ms/step - loss: 0.5859 - accuracy: 0.9760 - val_loss: 0.5679 - val_accuracy: 1.0000\n",
            "Epoch 11/100\n",
            "6/6 [==============================] - 0s 6ms/step - loss: 0.5748 - accuracy: 0.9760 - val_loss: 0.5570 - val_accuracy: 1.0000\n",
            "Epoch 12/100\n",
            "6/6 [==============================] - 0s 7ms/step - loss: 0.5641 - accuracy: 0.9760 - val_loss: 0.5458 - val_accuracy: 1.0000\n",
            "Epoch 13/100\n",
            "6/6 [==============================] - 0s 6ms/step - loss: 0.5531 - accuracy: 0.9760 - val_loss: 0.5350 - val_accuracy: 1.0000\n",
            "Epoch 14/100\n",
            "6/6 [==============================] - 0s 6ms/step - loss: 0.5425 - accuracy: 0.9760 - val_loss: 0.5243 - val_accuracy: 1.0000\n",
            "Epoch 15/100\n",
            "6/6 [==============================] - 0s 6ms/step - loss: 0.5321 - accuracy: 0.9760 - val_loss: 0.5139 - val_accuracy: 1.0000\n",
            "Epoch 16/100\n",
            "6/6 [==============================] - 0s 6ms/step - loss: 0.5220 - accuracy: 0.9760 - val_loss: 0.5036 - val_accuracy: 1.0000\n",
            "Epoch 17/100\n",
            "6/6 [==============================] - 0s 6ms/step - loss: 0.5122 - accuracy: 0.9760 - val_loss: 0.4936 - val_accuracy: 1.0000\n",
            "Epoch 18/100\n",
            "6/6 [==============================] - 0s 7ms/step - loss: 0.5027 - accuracy: 0.9760 - val_loss: 0.4837 - val_accuracy: 1.0000\n",
            "Epoch 19/100\n",
            "6/6 [==============================] - 0s 8ms/step - loss: 0.4933 - accuracy: 0.9760 - val_loss: 0.4741 - val_accuracy: 1.0000\n",
            "Epoch 20/100\n",
            "6/6 [==============================] - 0s 6ms/step - loss: 0.4841 - accuracy: 0.9760 - val_loss: 0.4647 - val_accuracy: 1.0000\n",
            "Epoch 21/100\n",
            "6/6 [==============================] - 0s 6ms/step - loss: 0.4752 - accuracy: 0.9760 - val_loss: 0.4561 - val_accuracy: 1.0000\n",
            "Epoch 22/100\n",
            "6/6 [==============================] - 0s 6ms/step - loss: 0.4671 - accuracy: 0.9760 - val_loss: 0.4470 - val_accuracy: 1.0000\n",
            "Epoch 23/100\n",
            "6/6 [==============================] - 0s 6ms/step - loss: 0.4586 - accuracy: 0.9760 - val_loss: 0.4382 - val_accuracy: 1.0000\n",
            "Epoch 24/100\n",
            "6/6 [==============================] - 0s 7ms/step - loss: 0.4502 - accuracy: 0.9760 - val_loss: 0.4295 - val_accuracy: 1.0000\n",
            "Epoch 25/100\n",
            "6/6 [==============================] - 0s 6ms/step - loss: 0.4421 - accuracy: 0.9760 - val_loss: 0.4208 - val_accuracy: 1.0000\n",
            "Epoch 26/100\n",
            "6/6 [==============================] - 0s 6ms/step - loss: 0.4340 - accuracy: 0.9760 - val_loss: 0.4123 - val_accuracy: 1.0000\n",
            "Epoch 27/100\n",
            "6/6 [==============================] - 0s 7ms/step - loss: 0.4261 - accuracy: 0.9760 - val_loss: 0.4040 - val_accuracy: 1.0000\n",
            "Epoch 28/100\n",
            "6/6 [==============================] - 0s 6ms/step - loss: 0.4184 - accuracy: 0.9760 - val_loss: 0.3958 - val_accuracy: 1.0000\n",
            "Epoch 29/100\n",
            "6/6 [==============================] - 0s 6ms/step - loss: 0.4108 - accuracy: 0.9760 - val_loss: 0.3876 - val_accuracy: 1.0000\n",
            "Epoch 30/100\n",
            "6/6 [==============================] - 0s 6ms/step - loss: 0.4034 - accuracy: 0.9760 - val_loss: 0.3794 - val_accuracy: 1.0000\n",
            "Epoch 31/100\n",
            "6/6 [==============================] - 0s 6ms/step - loss: 0.3960 - accuracy: 0.9760 - val_loss: 0.3713 - val_accuracy: 1.0000\n",
            "Epoch 32/100\n",
            "6/6 [==============================] - 0s 6ms/step - loss: 0.3887 - accuracy: 0.9760 - val_loss: 0.3633 - val_accuracy: 1.0000\n",
            "Epoch 33/100\n",
            "6/6 [==============================] - 0s 6ms/step - loss: 0.3816 - accuracy: 0.9760 - val_loss: 0.3559 - val_accuracy: 1.0000\n",
            "Epoch 34/100\n",
            "6/6 [==============================] - 0s 8ms/step - loss: 0.3749 - accuracy: 0.9760 - val_loss: 0.3480 - val_accuracy: 1.0000\n",
            "Epoch 35/100\n",
            "6/6 [==============================] - 0s 8ms/step - loss: 0.3679 - accuracy: 0.9760 - val_loss: 0.3403 - val_accuracy: 1.0000\n",
            "Epoch 36/100\n",
            "6/6 [==============================] - 0s 6ms/step - loss: 0.3611 - accuracy: 0.9760 - val_loss: 0.3326 - val_accuracy: 1.0000\n",
            "Epoch 37/100\n",
            "6/6 [==============================] - 0s 6ms/step - loss: 0.3543 - accuracy: 0.9760 - val_loss: 0.3257 - val_accuracy: 1.0000\n",
            "Epoch 38/100\n",
            "6/6 [==============================] - 0s 6ms/step - loss: 0.3482 - accuracy: 0.9760 - val_loss: 0.3189 - val_accuracy: 1.0000\n",
            "Epoch 39/100\n",
            "6/6 [==============================] - 0s 6ms/step - loss: 0.3422 - accuracy: 0.9760 - val_loss: 0.3122 - val_accuracy: 1.0000\n",
            "Epoch 40/100\n",
            "6/6 [==============================] - 0s 6ms/step - loss: 0.3362 - accuracy: 0.9760 - val_loss: 0.3049 - val_accuracy: 1.0000\n",
            "Epoch 41/100\n",
            "6/6 [==============================] - 0s 6ms/step - loss: 0.3299 - accuracy: 0.9760 - val_loss: 0.2977 - val_accuracy: 1.0000\n",
            "Epoch 42/100\n",
            "6/6 [==============================] - 0s 6ms/step - loss: 0.3236 - accuracy: 0.9760 - val_loss: 0.2906 - val_accuracy: 1.0000\n",
            "Epoch 43/100\n",
            "6/6 [==============================] - 0s 7ms/step - loss: 0.3175 - accuracy: 0.9760 - val_loss: 0.2836 - val_accuracy: 1.0000\n",
            "Epoch 44/100\n",
            "6/6 [==============================] - 0s 7ms/step - loss: 0.3114 - accuracy: 0.9760 - val_loss: 0.2768 - val_accuracy: 1.0000\n",
            "Epoch 45/100\n",
            "6/6 [==============================] - 0s 6ms/step - loss: 0.3055 - accuracy: 0.9760 - val_loss: 0.2700 - val_accuracy: 1.0000\n",
            "Epoch 46/100\n",
            "6/6 [==============================] - 0s 7ms/step - loss: 0.2997 - accuracy: 0.9760 - val_loss: 0.2634 - val_accuracy: 1.0000\n",
            "Epoch 47/100\n",
            "6/6 [==============================] - 0s 7ms/step - loss: 0.2940 - accuracy: 0.9760 - val_loss: 0.2568 - val_accuracy: 1.0000\n",
            "Epoch 48/100\n",
            "6/6 [==============================] - 0s 7ms/step - loss: 0.2884 - accuracy: 0.9760 - val_loss: 0.2503 - val_accuracy: 1.0000\n",
            "Epoch 49/100\n",
            "6/6 [==============================] - 0s 6ms/step - loss: 0.2829 - accuracy: 0.9760 - val_loss: 0.2439 - val_accuracy: 1.0000\n",
            "Epoch 50/100\n",
            "6/6 [==============================] - 0s 6ms/step - loss: 0.2775 - accuracy: 0.9760 - val_loss: 0.2377 - val_accuracy: 1.0000\n",
            "Epoch 51/100\n",
            "6/6 [==============================] - 0s 6ms/step - loss: 0.2722 - accuracy: 0.9760 - val_loss: 0.2315 - val_accuracy: 1.0000\n",
            "Epoch 52/100\n",
            "6/6 [==============================] - 0s 7ms/step - loss: 0.2671 - accuracy: 0.9760 - val_loss: 0.2254 - val_accuracy: 1.0000\n",
            "Epoch 53/100\n",
            "6/6 [==============================] - 0s 7ms/step - loss: 0.2620 - accuracy: 0.9760 - val_loss: 0.2195 - val_accuracy: 1.0000\n",
            "Epoch 54/100\n",
            "6/6 [==============================] - 0s 7ms/step - loss: 0.2571 - accuracy: 0.9760 - val_loss: 0.2136 - val_accuracy: 1.0000\n",
            "Epoch 55/100\n",
            "6/6 [==============================] - 0s 7ms/step - loss: 0.2523 - accuracy: 0.9760 - val_loss: 0.2079 - val_accuracy: 1.0000\n",
            "Epoch 56/100\n",
            "6/6 [==============================] - 0s 7ms/step - loss: 0.2476 - accuracy: 0.9760 - val_loss: 0.2023 - val_accuracy: 1.0000\n",
            "Epoch 57/100\n",
            "6/6 [==============================] - 0s 6ms/step - loss: 0.2430 - accuracy: 0.9760 - val_loss: 0.1968 - val_accuracy: 1.0000\n",
            "Epoch 58/100\n",
            "6/6 [==============================] - 0s 6ms/step - loss: 0.2386 - accuracy: 0.9760 - val_loss: 0.1915 - val_accuracy: 1.0000\n",
            "Epoch 59/100\n",
            "6/6 [==============================] - 0s 6ms/step - loss: 0.2343 - accuracy: 0.9760 - val_loss: 0.1862 - val_accuracy: 1.0000\n",
            "Epoch 60/100\n",
            "6/6 [==============================] - 0s 6ms/step - loss: 0.2301 - accuracy: 0.9760 - val_loss: 0.1820 - val_accuracy: 1.0000\n",
            "Epoch 61/100\n",
            "6/6 [==============================] - 0s 6ms/step - loss: 0.2267 - accuracy: 0.9760 - val_loss: 0.1769 - val_accuracy: 1.0000\n",
            "Epoch 62/100\n",
            "6/6 [==============================] - 0s 7ms/step - loss: 0.2227 - accuracy: 0.9760 - val_loss: 0.1720 - val_accuracy: 1.0000\n",
            "Epoch 63/100\n",
            "6/6 [==============================] - 0s 7ms/step - loss: 0.2189 - accuracy: 0.9760 - val_loss: 0.1673 - val_accuracy: 1.0000\n",
            "Epoch 64/100\n",
            "6/6 [==============================] - 0s 6ms/step - loss: 0.2151 - accuracy: 0.9760 - val_loss: 0.1627 - val_accuracy: 1.0000\n",
            "Epoch 65/100\n",
            "6/6 [==============================] - 0s 7ms/step - loss: 0.2116 - accuracy: 0.9760 - val_loss: 0.1582 - val_accuracy: 1.0000\n",
            "Epoch 66/100\n",
            "6/6 [==============================] - 0s 7ms/step - loss: 0.2081 - accuracy: 0.9760 - val_loss: 0.1538 - val_accuracy: 1.0000\n",
            "Epoch 67/100\n",
            "6/6 [==============================] - 0s 6ms/step - loss: 0.2047 - accuracy: 0.9760 - val_loss: 0.1495 - val_accuracy: 1.0000\n",
            "Epoch 68/100\n",
            "6/6 [==============================] - 0s 6ms/step - loss: 0.2015 - accuracy: 0.9760 - val_loss: 0.1454 - val_accuracy: 1.0000\n",
            "Epoch 69/100\n",
            "6/6 [==============================] - 0s 6ms/step - loss: 0.1984 - accuracy: 0.9760 - val_loss: 0.1414 - val_accuracy: 1.0000\n",
            "Epoch 70/100\n",
            "6/6 [==============================] - 0s 6ms/step - loss: 0.1954 - accuracy: 0.9760 - val_loss: 0.1376 - val_accuracy: 1.0000\n",
            "Epoch 71/100\n",
            "6/6 [==============================] - 0s 7ms/step - loss: 0.1926 - accuracy: 0.9760 - val_loss: 0.1338 - val_accuracy: 1.0000\n",
            "Epoch 72/100\n",
            "6/6 [==============================] - 0s 6ms/step - loss: 0.1898 - accuracy: 0.9760 - val_loss: 0.1302 - val_accuracy: 1.0000\n",
            "Epoch 73/100\n",
            "6/6 [==============================] - 0s 7ms/step - loss: 0.1872 - accuracy: 0.9760 - val_loss: 0.1267 - val_accuracy: 1.0000\n",
            "Epoch 74/100\n",
            "6/6 [==============================] - 0s 6ms/step - loss: 0.1846 - accuracy: 0.9760 - val_loss: 0.1233 - val_accuracy: 1.0000\n",
            "Epoch 75/100\n",
            "6/6 [==============================] - 0s 7ms/step - loss: 0.1823 - accuracy: 0.9760 - val_loss: 0.1210 - val_accuracy: 1.0000\n",
            "Epoch 76/100\n",
            "6/6 [==============================] - 0s 7ms/step - loss: 0.1805 - accuracy: 0.9760 - val_loss: 0.1178 - val_accuracy: 1.0000\n",
            "Epoch 77/100\n",
            "6/6 [==============================] - 0s 6ms/step - loss: 0.1783 - accuracy: 0.9760 - val_loss: 0.1147 - val_accuracy: 1.0000\n",
            "Epoch 78/100\n",
            "6/6 [==============================] - 0s 6ms/step - loss: 0.1762 - accuracy: 0.9760 - val_loss: 0.1118 - val_accuracy: 1.0000\n",
            "Epoch 79/100\n",
            "6/6 [==============================] - 0s 7ms/step - loss: 0.1741 - accuracy: 0.9760 - val_loss: 0.1098 - val_accuracy: 1.0000\n",
            "Epoch 80/100\n",
            "6/6 [==============================] - 0s 6ms/step - loss: 0.1727 - accuracy: 0.9760 - val_loss: 0.1070 - val_accuracy: 1.0000\n",
            "Epoch 81/100\n",
            "6/6 [==============================] - 0s 7ms/step - loss: 0.1708 - accuracy: 0.9760 - val_loss: 0.1043 - val_accuracy: 1.0000\n",
            "Epoch 82/100\n",
            "6/6 [==============================] - 0s 7ms/step - loss: 0.1690 - accuracy: 0.9760 - val_loss: 0.1017 - val_accuracy: 1.0000\n",
            "Epoch 83/100\n",
            "6/6 [==============================] - 0s 6ms/step - loss: 0.1673 - accuracy: 0.9760 - val_loss: 0.0992 - val_accuracy: 1.0000\n",
            "Epoch 84/100\n",
            "6/6 [==============================] - 0s 7ms/step - loss: 0.1656 - accuracy: 0.9760 - val_loss: 0.0968 - val_accuracy: 1.0000\n",
            "Epoch 85/100\n",
            "6/6 [==============================] - 0s 7ms/step - loss: 0.1641 - accuracy: 0.9760 - val_loss: 0.0945 - val_accuracy: 1.0000\n",
            "Epoch 86/100\n",
            "6/6 [==============================] - 0s 6ms/step - loss: 0.1625 - accuracy: 0.9760 - val_loss: 0.0922 - val_accuracy: 1.0000\n",
            "Epoch 87/100\n",
            "6/6 [==============================] - 0s 6ms/step - loss: 0.1612 - accuracy: 0.9760 - val_loss: 0.0901 - val_accuracy: 1.0000\n",
            "Epoch 88/100\n",
            "6/6 [==============================] - 0s 7ms/step - loss: 0.1598 - accuracy: 0.9760 - val_loss: 0.0880 - val_accuracy: 1.0000\n",
            "Epoch 89/100\n",
            "6/6 [==============================] - 0s 8ms/step - loss: 0.1585 - accuracy: 0.9760 - val_loss: 0.0860 - val_accuracy: 1.0000\n",
            "Epoch 90/100\n",
            "6/6 [==============================] - 0s 7ms/step - loss: 0.1572 - accuracy: 0.9760 - val_loss: 0.0841 - val_accuracy: 1.0000\n",
            "Epoch 91/100\n",
            "6/6 [==============================] - 0s 7ms/step - loss: 0.1560 - accuracy: 0.9760 - val_loss: 0.0822 - val_accuracy: 1.0000\n",
            "Epoch 92/100\n",
            "6/6 [==============================] - 0s 7ms/step - loss: 0.1549 - accuracy: 0.9760 - val_loss: 0.0804 - val_accuracy: 1.0000\n",
            "Epoch 93/100\n",
            "6/6 [==============================] - 0s 6ms/step - loss: 0.1539 - accuracy: 0.9760 - val_loss: 0.0787 - val_accuracy: 1.0000\n",
            "Epoch 94/100\n",
            "6/6 [==============================] - 0s 8ms/step - loss: 0.1529 - accuracy: 0.9760 - val_loss: 0.0779 - val_accuracy: 1.0000\n",
            "Epoch 95/100\n",
            "6/6 [==============================] - 0s 6ms/step - loss: 0.1524 - accuracy: 0.9760 - val_loss: 0.0763 - val_accuracy: 1.0000\n",
            "Epoch 96/100\n",
            "6/6 [==============================] - 0s 7ms/step - loss: 0.1514 - accuracy: 0.9760 - val_loss: 0.0747 - val_accuracy: 1.0000\n",
            "Epoch 97/100\n",
            "6/6 [==============================] - 0s 7ms/step - loss: 0.1506 - accuracy: 0.9760 - val_loss: 0.0741 - val_accuracy: 1.0000\n",
            "Epoch 98/100\n",
            "6/6 [==============================] - 0s 7ms/step - loss: 0.1502 - accuracy: 0.9760 - val_loss: 0.0726 - val_accuracy: 1.0000\n",
            "Epoch 99/100\n",
            "6/6 [==============================] - 0s 10ms/step - loss: 0.1493 - accuracy: 0.9760 - val_loss: 0.0712 - val_accuracy: 1.0000\n",
            "Epoch 100/100\n",
            "6/6 [==============================] - 0s 6ms/step - loss: 0.1486 - accuracy: 0.9760 - val_loss: 0.0698 - val_accuracy: 1.0000\n"
          ]
        }
      ]
    },
    {
      "cell_type": "code",
      "source": [
        "model.evaluate(x_test,y_test)[1]"
      ],
      "metadata": {
        "colab": {
          "base_uri": "https://localhost:8080/"
        },
        "id": "HwF05Fj2u-O2",
        "outputId": "4489a8f9-1552-4f4d-a6df-64378039507e"
      },
      "execution_count": 20,
      "outputs": [
        {
          "output_type": "stream",
          "name": "stdout",
          "text": [
            "1/1 [==============================] - 0s 17ms/step - loss: 0.0776 - accuracy: 1.0000\n"
          ]
        },
        {
          "output_type": "execute_result",
          "data": {
            "text/plain": [
              "1.0"
            ]
          },
          "metadata": {},
          "execution_count": 20
        }
      ]
    },
    {
      "cell_type": "code",
      "source": [
        "# Predict.\n",
        "prediction = model.predict(x_test)\n",
        "print(prediction)\n",
        "'''for y in prediction:\n",
        "  y.tolist()\n",
        "  prediction = [1 if p>=.70 else 0 for p in y]'''\n",
        "\n",
        "prediction = [1 if y>=.70 else 0 for y in prediction]\n",
        "print(\"The predictions\",prediction)\n",
        "print(\"The answer\",y_test)"
      ],
      "metadata": {
        "colab": {
          "base_uri": "https://localhost:8080/"
        },
        "id": "E_kki6OJyGfN",
        "outputId": "7925a7dd-6a9f-4ff4-bc8a-dd92bff9b87e"
      },
      "execution_count": 21,
      "outputs": [
        {
          "output_type": "stream",
          "name": "stdout",
          "text": [
            "[[0.05957568]\n",
            " [0.04913688]\n",
            " [0.06330621]\n",
            " [0.06040993]\n",
            " [0.05710447]\n",
            " [0.08498845]\n",
            " [0.06184584]\n",
            " [0.09666789]\n",
            " [0.08515039]\n",
            " [0.06792542]\n",
            " [0.07023233]\n",
            " [0.08211902]\n",
            " [0.05995938]\n",
            " [0.11252242]\n",
            " [0.07506731]\n",
            " [0.08411846]\n",
            " [0.09540352]\n",
            " [0.07236144]\n",
            " [0.06231254]\n",
            " [0.08455378]\n",
            " [0.07971063]]\n",
            "The predictions [0, 0, 0, 0, 0, 0, 0, 0, 0, 0, 0, 0, 0, 0, 0, 0, 0, 0, 0, 0, 0]\n",
            "The answer [0 0 0 0 0 0 0 0 0 0 0 0 0 0 0 0 0 0 0 0 0]\n"
          ]
        }
      ]
    },
    {
      "cell_type": "code",
      "source": [
        "# Visualization\n",
        "plt.plot(hist.history['loss'])\n",
        "plt.plot(hist.history['val_loss'])\n",
        "plt.title('model loss')\n",
        "plt.ylabel('loss')\n",
        "plt.xlabel('Epoch')\n",
        "plt.legend(['Train', 'val'])"
      ],
      "metadata": {
        "colab": {
          "base_uri": "https://localhost:8080/",
          "height": 312
        },
        "id": "cELinXkG2OBZ",
        "outputId": "319d1bf2-6524-4f03-acc5-6299cc5cb481"
      },
      "execution_count": 22,
      "outputs": [
        {
          "output_type": "execute_result",
          "data": {
            "text/plain": [
              "<matplotlib.legend.Legend at 0x7fd0ce365110>"
            ]
          },
          "metadata": {},
          "execution_count": 22
        },
        {
          "output_type": "display_data",
          "data": {
            "text/plain": [
              "<Figure size 432x288 with 1 Axes>"
            ],
            "image/png": "[encoded data removed]"
          },
          "metadata": {
            "needs_background": "light"
          }
        }
      ]
    },
    {
      "cell_type": "code",
      "source": [
        "# Visualization\n",
        "plt.plot(hist.history['accuracy'])\n",
        "plt.plot(hist.history['val_accuracy'])\n",
        "plt.title('model accuracy')\n",
        "plt.ylabel('accuracy')\n",
        "plt.xlabel('Epoch')\n",
        "plt.legend(['Train', 'val'])"
      ],
      "metadata": {
        "colab": {
          "base_uri": "https://localhost:8080/",
          "height": 312
        },
        "id": "cNBnvWqU24sq",
        "outputId": "e058188e-31a4-44c4-c116-82c236aef358"
      },
      "execution_count": 23,
      "outputs": [
        {
          "output_type": "execute_result",
          "data": {
            "text/plain": [
              "<matplotlib.legend.Legend at 0x7fd0cde2b290>"
            ]
          },
          "metadata": {},
          "execution_count": 23
        },
        {
          "output_type": "display_data",
          "data": {
            "text/plain": [
              "<Figure size 432x288 with 1 Axes>"
            ],
            "image/png": "[encoded data removed]"
          },
          "metadata": {
            "needs_background": "light"
          }
        }
      ]
    },
    {
      "cell_type": "code",
      "source": [
        "from google.colab import files\n",
        "uploaded = files.upload()\n",
        "df = pd.read_csv('grades copy.csv')\n",
        "df.head(7)"
      ],
      "metadata": {
        "colab": {
          "resources": {
            "http://localhost:8080/nbextensions/google.colab/files.js": {
              "data": "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",
              "ok": true,
              "headers": [
                [
                  "content-type",
                  "application/javascript"
                ]
              ],
              "status": 200,
              "status_text": ""
            }
          },
          "base_uri": "https://localhost:8080/",
          "height": 322
        },
        "id": "AeUuimfisO9Q",
        "outputId": "e3fc5b4b-a6b3-4756-f5d2-1f696a941f28"
      },
      "execution_count": 25,
      "outputs": [
        {
          "output_type": "display_data",
          "data": {
            "text/plain": [
              "<IPython.core.display.HTML object>"
            ],
            "text/html": [
              "\n",
              "     <input type=\"file\" id=\"files-4c696e9e-df1b-41fc-b3da-0389688ef36f\" name=\"files[]\" multiple disabled\n",
              "        style=\"border:none\" />\n",
              "     <output id=\"result-4c696e9e-df1b-41fc-b3da-0389688ef36f\">\n",
              "      Upload widget is only available when the cell has been executed in the\n",
              "      current browser session. Please rerun this cell to enable.\n",
              "      </output>\n",
              "      <script src=\"/nbextensions/google.colab/files.js\"></script> "
            ]
          },
          "metadata": {}
        },
        {
          "output_type": "stream",
          "name": "stdout",
          "text": [
            "Saving grades copy.csv to grades copy (3).csv\n"
          ]
        },
        {
          "output_type": "execute_result",
          "data": {
            "text/plain": [
              "   q1  q2  q3  q4  q5  test1  test2  test3  test4  test5  grade  average:\n",
              "0   7   9   8   8  10      5      9      9      7      9      1       8.1\n",
              "1   9   1  10   4   3      4      2      9      0      2      0       4.4\n",
              "2   4   5   6   4   6      9      1     10      2      1      0       4.8\n",
              "3   1  10   8   7   7      8      2      8      2      3      0       5.6\n",
              "4   8   5   6   4   8      6      2      7      1      6      0       5.3\n",
              "5   9   1   1   0  10      9      8      0      3      5      0       4.6\n",
              "6   8   9  10   7   9      9      3      3      0      0      0       5.8"
            ],
            "text/html": [
              "\n",
              "  <div id=\"df-3962b640-47a2-4945-90ee-3f5aebd9c69f\">\n",
              "    <div class=\"colab-df-container\">\n",
              "      <div>\n",
              "<style scoped>\n",
              "    .dataframe tbody tr th:only-of-type {\n",
              "        vertical-align: middle;\n",
              "    }\n",
              "\n",
              "    .dataframe tbody tr th {\n",
              "        vertical-align: top;\n",
              "    }\n",
              "\n",
              "    .dataframe thead th {\n",
              "        text-align: right;\n",
              "    }\n",
              "</style>\n",
              "<table border=\"1\" class=\"dataframe\">\n",
              "  <thead>\n",
              "    <tr style=\"text-align: right;\">\n",
              "      <th></th>\n",
              "      <th>q1</th>\n",
              "      <th>q2</th>\n",
              "      <th>q3</th>\n",
              "      <th>q4</th>\n",
              "      <th>q5</th>\n",
              "      <th>test1</th>\n",
              "      <th>test2</th>\n",
              "      <th>test3</th>\n",
              "      <th>test4</th>\n",
              "      <th>test5</th>\n",
              "      <th>grade</th>\n",
              "      <th>average:</th>\n",
              "    </tr>\n",
              "  </thead>\n",
              "  <tbody>\n",
              "    <tr>\n",
              "      <th>0</th>\n",
              "      <td>7</td>\n",
              "      <td>9</td>\n",
              "      <td>8</td>\n",
              "      <td>8</td>\n",
              "      <td>10</td>\n",
              "      <td>5</td>\n",
              "      <td>9</td>\n",
              "      <td>9</td>\n",
              "      <td>7</td>\n",
              "      <td>9</td>\n",
              "      <td>1</td>\n",
              "      <td>8.1</td>\n",
              "    </tr>\n",
              "    <tr>\n",
              "      <th>1</th>\n",
              "      <td>9</td>\n",
              "      <td>1</td>\n",
              "      <td>10</td>\n",
              "      <td>4</td>\n",
              "      <td>3</td>\n",
              "      <td>4</td>\n",
              "      <td>2</td>\n",
              "      <td>9</td>\n",
              "      <td>0</td>\n",
              "      <td>2</td>\n",
              "      <td>0</td>\n",
              "      <td>4.4</td>\n",
              "    </tr>\n",
              "    <tr>\n",
              "      <th>2</th>\n",
              "      <td>4</td>\n",
              "      <td>5</td>\n",
              "      <td>6</td>\n",
              "      <td>4</td>\n",
              "      <td>6</td>\n",
              "      <td>9</td>\n",
              "      <td>1</td>\n",
              "      <td>10</td>\n",
              "      <td>2</td>\n",
              "      <td>1</td>\n",
              "      <td>0</td>\n",
              "      <td>4.8</td>\n",
              "    </tr>\n",
              "    <tr>\n",
              "      <th>3</th>\n",
              "      <td>1</td>\n",
              "      <td>10</td>\n",
              "      <td>8</td>\n",
              "      <td>7</td>\n",
              "      <td>7</td>\n",
              "      <td>8</td>\n",
              "      <td>2</td>\n",
              "      <td>8</td>\n",
              "      <td>2</td>\n",
              "      <td>3</td>\n",
              "      <td>0</td>\n",
              "      <td>5.6</td>\n",
              "    </tr>\n",
              "    <tr>\n",
              "      <th>4</th>\n",
              "      <td>8</td>\n",
              "      <td>5</td>\n",
              "      <td>6</td>\n",
              "      <td>4</td>\n",
              "      <td>8</td>\n",
              "      <td>6</td>\n",
              "      <td>2</td>\n",
              "      <td>7</td>\n",
              "      <td>1</td>\n",
              "      <td>6</td>\n",
              "      <td>0</td>\n",
              "      <td>5.3</td>\n",
              "    </tr>\n",
              "    <tr>\n",
              "      <th>5</th>\n",
              "      <td>9</td>\n",
              "      <td>1</td>\n",
              "      <td>1</td>\n",
              "      <td>0</td>\n",
              "      <td>10</td>\n",
              "      <td>9</td>\n",
              "      <td>8</td>\n",
              "      <td>0</td>\n",
              "      <td>3</td>\n",
              "      <td>5</td>\n",
              "      <td>0</td>\n",
              "      <td>4.6</td>\n",
              "    </tr>\n",
              "    <tr>\n",
              "      <th>6</th>\n",
              "      <td>8</td>\n",
              "      <td>9</td>\n",
              "      <td>10</td>\n",
              "      <td>7</td>\n",
              "      <td>9</td>\n",
              "      <td>9</td>\n",
              "      <td>3</td>\n",
              "      <td>3</td>\n",
              "      <td>0</td>\n",
              "      <td>0</td>\n",
              "      <td>0</td>\n",
              "      <td>5.8</td>\n",
              "    </tr>\n",
              "  </tbody>\n",
              "</table>\n",
              "</div>\n",
              "      <button class=\"colab-df-convert\" onclick=\"convertToInteractive('df-3962b640-47a2-4945-90ee-3f5aebd9c69f')\"\n",
              "              title=\"Convert this dataframe to an interactive table.\"\n",
              "              style=\"display:none;\">\n",
              "        \n",
              "  <svg xmlns=\"http://www.w3.org/2000/svg\" height=\"24px\"viewBox=\"0 0 24 24\"\n",
              "       width=\"24px\">\n",
              "    <path d=\"M0 0h24v24H0V0z\" fill=\"none\"/>\n",
              "    <path d=\"M18.56 5.44l.94 2.06.94-2.06 2.06-.94-2.06-.94-.94-2.06-.94 2.06-2.06.94zm-11 1L8.5 8.5l.94-2.06 2.06-.94-2.06-.94L8.5 2.5l-.94 2.06-2.06.94zm10 10l.94 2.06.94-2.06 2.06-.94-2.06-.94-.94-2.06-.94 2.06-2.06.94z\"/><path d=\"M17.41 7.96l-1.37-1.37c-.4-.4-.92-.59-1.43-.59-.52 0-1.04.2-1.43.59L10.3 9.45l-7.72 7.72c-.78.78-.78 2.05 0 2.83L4 21.41c.39.39.9.59 1.41.59.51 0 1.02-.2 1.41-.59l7.78-7.78 2.81-2.81c.8-.78.8-2.07 0-2.86zM5.41 20L4 18.59l7.72-7.72 1.47 1.35L5.41 20z\"/>\n",
              "  </svg>\n",
              "      </button>\n",
              "      \n",
              "  <style>\n",
              "    .colab-df-container {\n",
              "      display:flex;\n",
              "      flex-wrap:wrap;\n",
              "      gap: 12px;\n",
              "    }\n",
              "\n",
              "    .colab-df-convert {\n",
              "      background-color: #E8F0FE;\n",
              "      border: none;\n",
              "      border-radius: 50%;\n",
              "      cursor: pointer;\n",
              "      display: none;\n",
              "      fill: #1967D2;\n",
              "      height: 32px;\n",
              "      padding: 0 0 0 0;\n",
              "      width: 32px;\n",
              "    }\n",
              "\n",
              "    .colab-df-convert:hover {\n",
              "      background-color: #E2EBFA;\n",
              "      box-shadow: 0px 1px 2px rgba(60, 64, 67, 0.3), 0px 1px 3px 1px rgba(60, 64, 67, 0.15);\n",
              "      fill: #174EA6;\n",
              "    }\n",
              "\n",
              "    [theme=dark] .colab-df-convert {\n",
              "      background-color: #3B4455;\n",
              "      fill: #D2E3FC;\n",
              "    }\n",
              "\n",
              "    [theme=dark] .colab-df-convert:hover {\n",
              "      background-color: #434B5C;\n",
              "      box-shadow: 0px 1px 3px 1px rgba(0, 0, 0, 0.15);\n",
              "      filter: drop-shadow(0px 1px 2px rgba(0, 0, 0, 0.3));\n",
              "      fill: #FFFFFF;\n",
              "    }\n",
              "  </style>\n",
              "\n",
              "      <script>\n",
              "        const buttonEl =\n",
              "          document.querySelector('#df-3962b640-47a2-4945-90ee-3f5aebd9c69f button.colab-df-convert');\n",
              "        buttonEl.style.display =\n",
              "          google.colab.kernel.accessAllowed ? 'block' : 'none';\n",
              "\n",
              "        async function convertToInteractive(key) {\n",
              "          const element = document.querySelector('#df-3962b640-47a2-4945-90ee-3f5aebd9c69f');\n",
              "          const dataTable =\n",
              "            await google.colab.kernel.invokeFunction('convertToInteractive',\n",
              "                                                     [key], {});\n",
              "          if (!dataTable) return;\n",
              "\n",
              "          const docLinkHtml = 'Like what you see? Visit the ' +\n",
              "            '<a target=\"_blank\" href=https://colab.research.google.com/notebooks/data_table.ipynb>data table notebook</a>'\n",
              "            + ' to learn more about interactive tables.';\n",
              "          element.innerHTML = '';\n",
              "          dataTable['output_type'] = 'display_data';\n",
              "          await google.colab.output.renderOutput(dataTable, element);\n",
              "          const docLink = document.createElement('div');\n",
              "          docLink.innerHTML = docLinkHtml;\n",
              "          element.appendChild(docLink);\n",
              "        }\n",
              "      </script>\n",
              "    </div>\n",
              "  </div>\n",
              "  "
            ]
          },
          "metadata": {},
          "execution_count": 25
        }
      ]
    },
    {
      "cell_type": "code",
      "source": [
        "dataset = df.values\n",
        "dataset"
      ],
      "metadata": {
        "colab": {
          "base_uri": "https://localhost:8080/"
        },
        "id": "U80raGz4sVTe",
        "outputId": "1eae8ea9-c32e-4a18-a693-fef4f8343bc1"
      },
      "execution_count": 26,
      "outputs": [
        {
          "output_type": "execute_result",
          "data": {
            "text/plain": [
              "array([[ 7. ,  9. ,  8. , ...,  9. ,  1. ,  8.1],\n",
              "       [ 9. ,  1. , 10. , ...,  2. ,  0. ,  4.4],\n",
              "       [ 4. ,  5. ,  6. , ...,  1. ,  0. ,  4.8],\n",
              "       ...,\n",
              "       [ 8. ,  0. ,  5. , ...,  8. ,  0. ,  4.6],\n",
              "       [ 6. ,  3. ,  7. , ...,  4. ,  0. ,  6.1],\n",
              "       [ 6. ,  7. ,  9. , ...,  6. ,  0. ,  5. ]])"
            ]
          },
          "metadata": {},
          "execution_count": 26
        }
      ]
    },
    {
      "cell_type": "code",
      "source": [
        "# Get the rows.\n",
        "x = dataset[:,0:10]\n",
        "y = dataset[:,10]"
      ],
      "metadata": {
        "id": "Co28RPYVsZqc"
      },
      "execution_count": 27,
      "outputs": []
    },
    {
      "cell_type": "code",
      "source": [
        "# Now use the mininum-maximum scaler\n",
        "min_max_scaler = MinMaxScaler()\n",
        "x_scale = min_max_scaler.fit_transform(x)\n",
        "x_scale"
      ],
      "metadata": {
        "colab": {
          "base_uri": "https://localhost:8080/"
        },
        "id": "YiycuV9Vse-E",
        "outputId": "b58bb2dd-1299-4e8f-c57a-ddc550e3fd16"
      },
      "execution_count": 28,
      "outputs": [
        {
          "output_type": "execute_result",
          "data": {
            "text/plain": [
              "array([[0.7, 0.9, 0.8, ..., 0.9, 0.7, 0.9],\n",
              "       [0.9, 0.1, 1. , ..., 0.9, 0. , 0.2],\n",
              "       [0.4, 0.5, 0.6, ..., 1. , 0.2, 0.1],\n",
              "       ...,\n",
              "       [0.8, 0. , 0.5, ..., 0.4, 0.2, 0.8],\n",
              "       [0.6, 0.3, 0.7, ..., 0.5, 0.1, 0.4],\n",
              "       [0.6, 0.7, 0.9, ..., 0. , 0.3, 0.6]])"
            ]
          },
          "metadata": {},
          "execution_count": 28
        }
      ]
    },
    {
      "cell_type": "code",
      "source": [
        "# Set 50 percent training and 20 percent (10% test and 10% validating)\n",
        "x_train,x_val_and_test, y_train, y_val_and_test = train_test_split(x_scale,y,test_size=0.5)\n",
        "x_val, x_test, y_val, y_test = train_test_split(x_val_and_test,y_val_and_test, test_size = 0.5)\n",
        "# The training has 6 data point, validation has 1 data points and the variables have 10.\n",
        "print(x_train.shape, x_val.shape, x_test.shape, y_train.shape, y_val.shape, y_test.shape)"
      ],
      "metadata": {
        "colab": {
          "base_uri": "https://localhost:8080/"
        },
        "id": "mI_rV77XsrCq",
        "outputId": "12f6715f-b730-4613-aa83-c31af13d2b38"
      },
      "execution_count": 29,
      "outputs": [
        {
          "output_type": "stream",
          "name": "stdout",
          "text": [
            "(104, 10) (52, 10) (53, 10) (104,) (52,) (53,)\n"
          ]
        }
      ]
    },
    {
      "cell_type": "code",
      "source": [
        "#Now we train the data.\n",
        "hist = model.fit(x_train,y_train,\n",
        "                 batch_size=32, epochs=50, validation_data=(x_val,y_val))"
      ],
      "metadata": {
        "colab": {
          "base_uri": "https://localhost:8080/"
        },
        "id": "KB8mJKDpye87",
        "outputId": "3bf69f42-aaa7-40ed-aa04-ef5af5323bde"
      },
      "execution_count": 30,
      "outputs": [
        {
          "output_type": "stream",
          "name": "stdout",
          "text": [
            "Epoch 1/50\n",
            "4/4 [==============================] - 0s 57ms/step - loss: 0.1307 - accuracy: 0.9808 - val_loss: 0.1840 - val_accuracy: 0.9615\n",
            "Epoch 2/50\n",
            "4/4 [==============================] - 0s 20ms/step - loss: 0.1301 - accuracy: 0.9808 - val_loss: 0.1837 - val_accuracy: 0.9615\n",
            "Epoch 3/50\n",
            "4/4 [==============================] - 0s 10ms/step - loss: 0.1294 - accuracy: 0.9808 - val_loss: 0.1835 - val_accuracy: 0.9615\n",
            "Epoch 4/50\n",
            "4/4 [==============================] - 0s 10ms/step - loss: 0.1288 - accuracy: 0.9808 - val_loss: 0.1833 - val_accuracy: 0.9615\n",
            "Epoch 5/50\n",
            "4/4 [==============================] - 0s 11ms/step - loss: 0.1283 - accuracy: 0.9808 - val_loss: 0.1830 - val_accuracy: 0.9615\n",
            "Epoch 6/50\n",
            "4/4 [==============================] - 0s 11ms/step - loss: 0.1277 - accuracy: 0.9808 - val_loss: 0.1830 - val_accuracy: 0.9615\n",
            "Epoch 7/50\n",
            "4/4 [==============================] - 0s 12ms/step - loss: 0.1275 - accuracy: 0.9808 - val_loss: 0.1828 - val_accuracy: 0.9615\n",
            "Epoch 8/50\n",
            "4/4 [==============================] - 0s 10ms/step - loss: 0.1269 - accuracy: 0.9808 - val_loss: 0.1826 - val_accuracy: 0.9615\n",
            "Epoch 9/50\n",
            "4/4 [==============================] - 0s 10ms/step - loss: 0.1265 - accuracy: 0.9808 - val_loss: 0.1824 - val_accuracy: 0.9615\n",
            "Epoch 10/50\n",
            "4/4 [==============================] - 0s 11ms/step - loss: 0.1259 - accuracy: 0.9808 - val_loss: 0.1823 - val_accuracy: 0.9615\n",
            "Epoch 11/50\n",
            "4/4 [==============================] - 0s 11ms/step - loss: 0.1254 - accuracy: 0.9808 - val_loss: 0.1822 - val_accuracy: 0.9615\n",
            "Epoch 12/50\n",
            "4/4 [==============================] - 0s 10ms/step - loss: 0.1250 - accuracy: 0.9808 - val_loss: 0.1820 - val_accuracy: 0.9615\n",
            "Epoch 13/50\n",
            "4/4 [==============================] - 0s 11ms/step - loss: 0.1246 - accuracy: 0.9808 - val_loss: 0.1819 - val_accuracy: 0.9615\n",
            "Epoch 14/50\n",
            "4/4 [==============================] - 0s 10ms/step - loss: 0.1241 - accuracy: 0.9808 - val_loss: 0.1818 - val_accuracy: 0.9615\n",
            "Epoch 15/50\n",
            "4/4 [==============================] - 0s 10ms/step - loss: 0.1237 - accuracy: 0.9808 - val_loss: 0.1817 - val_accuracy: 0.9615\n",
            "Epoch 16/50\n",
            "4/4 [==============================] - 0s 12ms/step - loss: 0.1233 - accuracy: 0.9808 - val_loss: 0.1817 - val_accuracy: 0.9615\n",
            "Epoch 17/50\n",
            "4/4 [==============================] - 0s 10ms/step - loss: 0.1229 - accuracy: 0.9808 - val_loss: 0.1816 - val_accuracy: 0.9615\n",
            "Epoch 18/50\n",
            "4/4 [==============================] - 0s 10ms/step - loss: 0.1225 - accuracy: 0.9808 - val_loss: 0.1815 - val_accuracy: 0.9615\n",
            "Epoch 19/50\n",
            "4/4 [==============================] - 0s 10ms/step - loss: 0.1221 - accuracy: 0.9808 - val_loss: 0.1815 - val_accuracy: 0.9615\n",
            "Epoch 20/50\n",
            "4/4 [==============================] - 0s 10ms/step - loss: 0.1217 - accuracy: 0.9808 - val_loss: 0.1814 - val_accuracy: 0.9615\n",
            "Epoch 21/50\n",
            "4/4 [==============================] - 0s 9ms/step - loss: 0.1215 - accuracy: 0.9808 - val_loss: 0.1814 - val_accuracy: 0.9615\n",
            "Epoch 22/50\n",
            "4/4 [==============================] - 0s 10ms/step - loss: 0.1211 - accuracy: 0.9808 - val_loss: 0.1814 - val_accuracy: 0.9615\n",
            "Epoch 23/50\n",
            "4/4 [==============================] - 0s 12ms/step - loss: 0.1211 - accuracy: 0.9808 - val_loss: 0.1814 - val_accuracy: 0.9615\n",
            "Epoch 24/50\n",
            "4/4 [==============================] - 0s 11ms/step - loss: 0.1211 - accuracy: 0.9808 - val_loss: 0.1814 - val_accuracy: 0.9615\n",
            "Epoch 25/50\n",
            "4/4 [==============================] - 0s 12ms/step - loss: 0.1207 - accuracy: 0.9808 - val_loss: 0.1813 - val_accuracy: 0.9615\n",
            "Epoch 26/50\n",
            "4/4 [==============================] - 0s 12ms/step - loss: 0.1205 - accuracy: 0.9808 - val_loss: 0.1813 - val_accuracy: 0.9615\n",
            "Epoch 27/50\n",
            "4/4 [==============================] - 0s 10ms/step - loss: 0.1201 - accuracy: 0.9808 - val_loss: 0.1813 - val_accuracy: 0.9615\n",
            "Epoch 28/50\n",
            "4/4 [==============================] - 0s 11ms/step - loss: 0.1198 - accuracy: 0.9808 - val_loss: 0.1813 - val_accuracy: 0.9615\n",
            "Epoch 29/50\n",
            "4/4 [==============================] - 0s 16ms/step - loss: 0.1195 - accuracy: 0.9808 - val_loss: 0.1813 - val_accuracy: 0.9615\n",
            "Epoch 30/50\n",
            "4/4 [==============================] - 0s 10ms/step - loss: 0.1193 - accuracy: 0.9808 - val_loss: 0.1813 - val_accuracy: 0.9615\n",
            "Epoch 31/50\n",
            "4/4 [==============================] - 0s 10ms/step - loss: 0.1190 - accuracy: 0.9808 - val_loss: 0.1814 - val_accuracy: 0.9615\n",
            "Epoch 32/50\n",
            "4/4 [==============================] - 0s 10ms/step - loss: 0.1187 - accuracy: 0.9808 - val_loss: 0.1814 - val_accuracy: 0.9615\n",
            "Epoch 33/50\n",
            "4/4 [==============================] - 0s 11ms/step - loss: 0.1185 - accuracy: 0.9808 - val_loss: 0.1814 - val_accuracy: 0.9615\n",
            "Epoch 34/50\n",
            "4/4 [==============================] - 0s 10ms/step - loss: 0.1183 - accuracy: 0.9808 - val_loss: 0.1815 - val_accuracy: 0.9615\n",
            "Epoch 35/50\n",
            "4/4 [==============================] - 0s 11ms/step - loss: 0.1181 - accuracy: 0.9808 - val_loss: 0.1815 - val_accuracy: 0.9615\n",
            "Epoch 36/50\n",
            "4/4 [==============================] - 0s 17ms/step - loss: 0.1179 - accuracy: 0.9808 - val_loss: 0.1815 - val_accuracy: 0.9615\n",
            "Epoch 37/50\n",
            "4/4 [==============================] - 0s 10ms/step - loss: 0.1176 - accuracy: 0.9808 - val_loss: 0.1816 - val_accuracy: 0.9615\n",
            "Epoch 38/50\n",
            "4/4 [==============================] - 0s 11ms/step - loss: 0.1174 - accuracy: 0.9808 - val_loss: 0.1815 - val_accuracy: 0.9615\n",
            "Epoch 39/50\n",
            "4/4 [==============================] - 0s 10ms/step - loss: 0.1174 - accuracy: 0.9808 - val_loss: 0.1816 - val_accuracy: 0.9615\n",
            "Epoch 40/50\n",
            "4/4 [==============================] - 0s 10ms/step - loss: 0.1172 - accuracy: 0.9808 - val_loss: 0.1817 - val_accuracy: 0.9615\n",
            "Epoch 41/50\n",
            "4/4 [==============================] - 0s 12ms/step - loss: 0.1170 - accuracy: 0.9808 - val_loss: 0.1817 - val_accuracy: 0.9615\n",
            "Epoch 42/50\n",
            "4/4 [==============================] - 0s 18ms/step - loss: 0.1169 - accuracy: 0.9808 - val_loss: 0.1817 - val_accuracy: 0.9615\n",
            "Epoch 43/50\n",
            "4/4 [==============================] - 0s 11ms/step - loss: 0.1169 - accuracy: 0.9808 - val_loss: 0.1817 - val_accuracy: 0.9615\n",
            "Epoch 44/50\n",
            "4/4 [==============================] - 0s 10ms/step - loss: 0.1167 - accuracy: 0.9808 - val_loss: 0.1818 - val_accuracy: 0.9615\n",
            "Epoch 45/50\n",
            "4/4 [==============================] - 0s 10ms/step - loss: 0.1165 - accuracy: 0.9808 - val_loss: 0.1819 - val_accuracy: 0.9615\n",
            "Epoch 46/50\n",
            "4/4 [==============================] - 0s 11ms/step - loss: 0.1164 - accuracy: 0.9808 - val_loss: 0.1819 - val_accuracy: 0.9615\n",
            "Epoch 47/50\n",
            "4/4 [==============================] - 0s 11ms/step - loss: 0.1162 - accuracy: 0.9808 - val_loss: 0.1820 - val_accuracy: 0.9615\n",
            "Epoch 48/50\n",
            "4/4 [==============================] - 0s 17ms/step - loss: 0.1161 - accuracy: 0.9808 - val_loss: 0.1821 - val_accuracy: 0.9615\n",
            "Epoch 49/50\n",
            "4/4 [==============================] - 0s 10ms/step - loss: 0.1159 - accuracy: 0.9808 - val_loss: 0.1820 - val_accuracy: 0.9615\n",
            "Epoch 50/50\n",
            "4/4 [==============================] - 0s 16ms/step - loss: 0.1159 - accuracy: 0.9808 - val_loss: 0.1821 - val_accuracy: 0.9615\n"
          ]
        }
      ]
    },
    {
      "cell_type": "code",
      "source": [
        "model.evaluate(x_test,y_test)[1]"
      ],
      "metadata": {
        "colab": {
          "base_uri": "https://localhost:8080/"
        },
        "id": "pHig4e66s_kR",
        "outputId": "9ffc60da-d671-4a92-f0bd-a247821ec7d9"
      },
      "execution_count": 32,
      "outputs": [
        {
          "output_type": "stream",
          "name": "stdout",
          "text": [
            "2/2 [==============================] - 0s 5ms/step - loss: 0.1798 - accuracy: 0.9623\n"
          ]
        },
        {
          "output_type": "execute_result",
          "data": {
            "text/plain": [
              "0.9622641801834106"
            ]
          },
          "metadata": {},
          "execution_count": 32
        }
      ]
    },
    {
      "cell_type": "code",
      "source": [
        "# Predict.\n",
        "prediction = model.predict(x_test)\n",
        "print(prediction)\n",
        "'''for y in prediction:\n",
        "  y.tolist()\n",
        "  prediction = [1 if p>=.85 else 0 for p in y]'''\n",
        "\n",
        "prediction = [1 if y>=.70 else 0 for y in prediction]\n",
        "print(\"The predictions\",prediction)\n",
        "print(\"The answer\",y_test)"
      ],
      "metadata": {
        "colab": {
          "base_uri": "https://localhost:8080/"
        },
        "id": "fRIw-e5ptFw1",
        "outputId": "219b8896-8a7f-441c-d735-48111fa42192"
      },
      "execution_count": 33,
      "outputs": [
        {
          "output_type": "stream",
          "name": "stdout",
          "text": [
            "[[0.03710836]\n",
            " [0.04125917]\n",
            " [0.0595361 ]\n",
            " [0.02573645]\n",
            " [0.02359676]\n",
            " [0.05629385]\n",
            " [0.04385683]\n",
            " [0.02744028]\n",
            " [0.02912611]\n",
            " [0.02714705]\n",
            " [0.03157246]\n",
            " [0.04883119]\n",
            " [0.04078344]\n",
            " [0.02875772]\n",
            " [0.03423524]\n",
            " [0.05370787]\n",
            " [0.05808103]\n",
            " [0.03485325]\n",
            " [0.06206328]\n",
            " [0.06244057]\n",
            " [0.02898607]\n",
            " [0.04153991]\n",
            " [0.03249264]\n",
            " [0.04467925]\n",
            " [0.0524762 ]\n",
            " [0.05754092]\n",
            " [0.05725649]\n",
            " [0.04282415]\n",
            " [0.05687255]\n",
            " [0.03236914]\n",
            " [0.05701813]\n",
            " [0.03621334]\n",
            " [0.03126267]\n",
            " [0.06339416]\n",
            " [0.02594039]\n",
            " [0.02566811]\n",
            " [0.0405587 ]\n",
            " [0.05614448]\n",
            " [0.03245834]\n",
            " [0.06480643]\n",
            " [0.04152283]\n",
            " [0.03597388]\n",
            " [0.02652505]\n",
            " [0.05272889]\n",
            " [0.04006466]\n",
            " [0.04727352]\n",
            " [0.02912492]\n",
            " [0.03658316]\n",
            " [0.04619056]\n",
            " [0.05391487]\n",
            " [0.04719076]\n",
            " [0.04544333]\n",
            " [0.03692007]]\n",
            "The predictions [0, 0, 0, 0, 0, 0, 0, 0, 0, 0, 0, 0, 0, 0, 0, 0, 0, 0, 0, 0, 0, 0, 0, 0, 0, 0, 0, 0, 0, 0, 0, 0, 0, 0, 0, 0, 0, 0, 0, 0, 0, 0, 0, 0, 0, 0, 0, 0, 0, 0, 0, 0, 0]\n",
            "The answer [0. 0. 0. 0. 1. 0. 0. 0. 0. 0. 0. 0. 0. 0. 0. 0. 0. 0. 0. 0. 0. 0. 0. 0.\n",
            " 0. 0. 0. 0. 0. 0. 0. 0. 0. 0. 0. 0. 0. 0. 0. 0. 0. 0. 0. 0. 0. 0. 1. 0.\n",
            " 0. 0. 0. 0. 0.]\n"
          ]
        }
      ]
    },
    {
      "cell_type": "code",
      "source": [
        "#Now save the model to train later if we want.\n",
        "# https://stackoverflow.com/questions/42666046/loading-a-trained-keras-model-and-continue-training\n",
        "model.save('./MyModel_tf',save_format='tf')"
      ],
      "metadata": {
        "colab": {
          "base_uri": "https://localhost:8080/"
        },
        "id": "aYkckjBq5AXS",
        "outputId": "9c5e7f0d-66e1-47d1-8f65-57b420052c7d"
      },
      "execution_count": 34,
      "outputs": [
        {
          "output_type": "stream",
          "name": "stdout",
          "text": [
            "INFO:tensorflow:Assets written to: ./MyModel_tf/assets\n"
          ]
        }
      ]
    },
    {
      "cell_type": "code",
      "source": [
        "!zip -r /content/MyModel_tf.zip /content/MyModel_tf/"
      ],
      "metadata": {
        "colab": {
          "base_uri": "https://localhost:8080/"
        },
        "id": "TMnA9lsg69Pm",
        "outputId": "d04f214e-162c-468a-8de9-d421a599cde3"
      },
      "execution_count": 35,
      "outputs": [
        {
          "output_type": "stream",
          "name": "stdout",
          "text": [
            "  adding: content/MyModel_tf/ (stored 0%)\n",
            "  adding: content/MyModel_tf/saved_model.pb (deflated 88%)\n",
            "  adding: content/MyModel_tf/keras_metadata.pb (deflated 87%)\n",
            "  adding: content/MyModel_tf/assets/ (stored 0%)\n",
            "  adding: content/MyModel_tf/variables/ (stored 0%)\n",
            "  adding: content/MyModel_tf/variables/variables.data-00000-of-00001 (deflated 59%)\n",
            "  adding: content/MyModel_tf/variables/variables.index (deflated 54%)\n"
          ]
        }
      ]
    }
  ]
}